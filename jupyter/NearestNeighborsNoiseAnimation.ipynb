{
 "cells": [
  {
   "cell_type": "code",
   "execution_count": 1,
   "metadata": {},
   "outputs": [],
   "source": [
    "import numpy as np\n",
    "import matplotlib.pyplot as plt\n",
    "import matplotlib.animation as manimation\n",
    "from sklearn.neighbors import KDTree\n",
    "from sklearn.datasets import make_blobs, make_moons\n",
    "%matplotlib inline"
   ]
  },
  {
   "cell_type": "code",
   "execution_count": 2,
   "metadata": {},
   "outputs": [],
   "source": [
    "# data = np.random.laplace(size=(200, 2))\n",
    "# data, color = make_blobs(random_state=12, cluster_std=2.0)\n",
    "data, color = make_moons(noise=0.1, random_state=12)\n",
    "data = np.array([data[:,0], data[:,1], color]).T"
   ]
  },
  {
   "cell_type": "code",
   "execution_count": 3,
   "metadata": {},
   "outputs": [
    {
     "data": {
      "text/plain": [
       "array([[ 0.57978283,  0.90411361,  0.        ],\n",
       "       [-0.93532537,  0.62356764,  0.        ],\n",
       "       [ 1.96099906,  0.07183735,  1.        ],\n",
       "       [ 0.42812429,  0.86318812,  0.        ],\n",
       "       [ 0.46085576, -0.32568043,  1.        ],\n",
       "       [-0.59557661,  0.79611617,  0.        ],\n",
       "       [ 1.82890856, -0.19672807,  1.        ],\n",
       "       [ 0.55212165,  0.75821799,  0.        ],\n",
       "       [ 0.31362121,  0.96467745,  0.        ],\n",
       "       [ 0.15473492, -0.12283995,  1.        ]])"
      ]
     },
     "execution_count": 3,
     "metadata": {},
     "output_type": "execute_result"
    }
   ],
   "source": [
    "data[0:10]"
   ]
  },
  {
   "cell_type": "code",
   "execution_count": 4,
   "metadata": {},
   "outputs": [],
   "source": [
    "def get_next_gen(gen0data):\n",
    "    kdt = KDTree(gen0data)\n",
    "    def get_nni(point):\n",
    "        dist, ind = kdt.query([point], k=3)\n",
    "        return np.random.choice(ind[0,1:])\n",
    "    def shuffle_coords(p0, p1):\n",
    "        result = np.array([p0, p1])\n",
    "        for i in range(len(p0)):\n",
    "            result[:, i] = np.random.choice(result[:, i], size=2, replace=False)\n",
    "        return result\n",
    "    gen1data = gen0data.copy()\n",
    "    shuffled_indices = set()\n",
    "    for i, p0 in enumerate(gen1data):\n",
    "        if i in shuffled_indices: next\n",
    "        nni = get_nni(p0)\n",
    "        p1 = gen1data[nni]\n",
    "        gen1data[i], gen1data[nni] = shuffle_coords(p0, p1)\n",
    "        shuffled_indices.update([i, nni])\n",
    "    return gen1data"
   ]
  },
  {
   "cell_type": "code",
   "execution_count": 5,
   "metadata": {},
   "outputs": [
    {
     "data": {
      "image/png": "[encoded data removed]",
      "text/plain": [
       "<Figure size 432x288 with 1 Axes>"
      ]
     },
     "metadata": {},
     "output_type": "display_data"
    }
   ],
   "source": [
    "# https://matplotlib.org/examples/animation/moviewriter.html\n",
    "IMWriter = manimation.writers.avail['imagemagick']\n",
    "writer = IMWriter(fps=10, metadata={'title':'Moon Test'})\n",
    "\n",
    "d = data\n",
    "\n",
    "fig = plt.figure()\n",
    "scatter = plt.scatter(d[:, 0], d[:, 1], c=d[:,2])\n",
    "plt.title('Iteration 0')\n",
    "\n",
    "plt.xlim(d[:,0].min() - 1, d[:,0].max() + 1)\n",
    "plt.ylim(d[:,1].min() - 1, d[:,1].max() + 1)\n",
    "with writer.saving(fig, \"images/moon_scatter_with_laplace_noise.gif\", 100):\n",
    "    for i in range(1, 101):\n",
    "        d = get_next_gen(d)\n",
    "        d = d.copy()\n",
    "        d[:,0] += np.random.laplace(scale=0.02,size=d[:,0].shape)\n",
    "        d[:,1] += np.random.laplace(scale=0.02,size=d[:,1].shape)\n",
    "        scatter.remove()\n",
    "        scatter = plt.scatter(d[:, 0], d[:, 1], c=d[:,2])\n",
    "        plt.title('Iteration {}'.format(i))\n",
    "        writer.grab_frame()"
   ]
  },
  {
   "cell_type": "code",
   "execution_count": null,
   "metadata": {},
   "outputs": [],
   "source": []
  }
 ],
 "metadata": {
  "kernelspec": {
   "display_name": "Python 3",
   "language": "python",
   "name": "python3"
  },
  "language_info": {
   "codemirror_mode": {
    "name": "ipython",
    "version": 3
   },
   "file_extension": ".py",
   "mimetype": "text/x-python",
   "name": "python",
   "nbconvert_exporter": "python",
   "pygments_lexer": "ipython3",
   "version": "3.6.5"
  }
 },
 "nbformat": 4,
 "nbformat_minor": 2
}
