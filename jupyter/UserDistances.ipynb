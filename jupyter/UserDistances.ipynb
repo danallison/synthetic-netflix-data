{
 "cells": [
  {
   "cell_type": "code",
   "execution_count": 1,
   "metadata": {},
   "outputs": [],
   "source": [
    "from project_helpers import n4j_driver as n4j"
   ]
  },
  {
   "cell_type": "code",
   "execution_count": 4,
   "metadata": {},
   "outputs": [
    {
     "name": "stdout",
     "output_type": "stream",
     "text": [
      "1170975\n",
      "<Record uid=387418 distance=15.033296378372908 common_movies=59>\n",
      "<Record uid=2118461 distance=9.055385138137417 common_movies=58>\n",
      "<Record uid=305344 distance=14.177446878757825 common_movies=58>\n",
      "<Record uid=2439493 distance=18.33030277982336 common_movies=58>\n",
      "<Record uid=1314869 distance=10.04987562112089 common_movies=57>\n",
      "<Record uid=1664010 distance=12.649110640673518 common_movies=56>\n",
      "<Record uid=2433610 distance=10.246950765959598 common_movies=54>\n",
      "<Record uid=1403217 distance=11.789826122551595 common_movies=54>\n",
      "<Record uid=2238060 distance=12.288205727444508 common_movies=54>\n",
      "<Record uid=603543 distance=9.0 common_movies=53>\n",
      "CPU times: user 4 ms, sys: 0 ns, total: 4 ms\n",
      "Wall time: 20.7 s\n"
     ]
    }
   ],
   "source": [
    "%%time\n",
    "with n4j.session() as session:\n",
    "    random_users = session.run(\n",
    "        '''\n",
    "        MATCH (u:RealUser)\n",
    "        RETURN u.user_id as user_id\n",
    "        ORDER BY rand()\n",
    "        LIMIT $lim\n",
    "        ''',\n",
    "        lim=1\n",
    "    )\n",
    "    for user in random_users:\n",
    "        print(user['user_id'])\n",
    "        similar_users = session.run(\n",
    "            '''\n",
    "            MATCH (otherUsers:RealUser) WHERE rand() < $percent\n",
    "            WITH otherUsers\n",
    "            MATCH (u:RealUser {user_id: $user_id})-[r1:rated]->(m:Movie),\n",
    "                  (otherUsers)-[r2:rated]->(m)\n",
    "            RETURN otherUsers.user_id AS uid,\n",
    "                   sqrt(sum((r1.rating - r2.rating)^2)) AS distance,\n",
    "                   count(r2) AS common_movies\n",
    "            ORDER BY common_movies DESC, distance\n",
    "            LIMIT $lim\n",
    "            ''',\n",
    "            percent=0.2, user_id=user['user_id'], lim=10\n",
    "        )\n",
    "        for similar_user in similar_users:\n",
    "            print(similar_user)\n",
    "        "
   ]
  },
  {
   "cell_type": "code",
   "execution_count": 5,
   "metadata": {},
   "outputs": [
    {
     "name": "stdout",
     "output_type": "stream",
     "text": [
      "<Record minimum=1 maximum=17653 median=96 mean=209.2519966096733>\n",
      "CPU times: user 28 ms, sys: 16 ms, total: 44 ms\n",
      "Wall time: 4min 21s\n"
     ]
    }
   ],
   "source": [
    "%%time\n",
    "with n4j.session() as session:\n",
    "    per_user_stats = session.run(\n",
    "        '''\n",
    "        MATCH (u:RealUser)-[r:rated]->(m:Movie)\n",
    "        WITH u.user_id AS user_id, count(r) as ratings\n",
    "        RETURN min(ratings) AS minimum,\n",
    "               max(ratings) AS maximum,\n",
    "               percentileDisc(ratings, 0.5) AS median,\n",
    "               avg(ratings) AS mean\n",
    "        '''\n",
    "    )\n",
    "    for stats in per_user_stats:\n",
    "        print(stats)"
   ]
  },
  {
   "cell_type": "code",
   "execution_count": null,
   "metadata": {},
   "outputs": [],
   "source": []
  }
 ],
 "metadata": {
  "kernelspec": {
   "display_name": "Python 3",
   "language": "python",
   "name": "python3"
  },
  "language_info": {
   "codemirror_mode": {
    "name": "ipython",
    "version": 3
   },
   "file_extension": ".py",
   "mimetype": "text/x-python",
   "name": "python",
   "nbconvert_exporter": "python",
   "pygments_lexer": "ipython3",
   "version": "3.6.5"
  }
 },
 "nbformat": 4,
 "nbformat_minor": 2
}
